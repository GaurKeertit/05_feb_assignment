{
 "cells": [
  {
   "cell_type": "markdown",
   "id": "24bdc29c-085f-47ab-8eb4-a3da5594bf3f",
   "metadata": {},
   "source": [
    "### Q1. Explain Class and Object with respect to Object-Oriented Programming. Give a suitable example."
   ]
  },
  {
   "cell_type": "markdown",
   "id": "4b43539f-d725-4b11-a643-5c797506f2ea",
   "metadata": {},
   "source": [
    "Class is a detailed description, the definition, and the template of what an object will be.\n",
    "A class is the building block that leads to Object-Oriented Programming.\n",
    "It is a user-defined data type, that holds its own data members and member functions, which can be accessed and used by creating an instance of that class. It is the blueprint of any object.\n",
    "\n",
    "\n",
    "Object is an instance of a class. All data members and member functions of the class can be accessed with the help of objects. When a class is defined, no memory is allocated, but memory is allocated when it is instantiated (i.e. an object is created).\n",
    "\n",
    "For example: \n",
    "In real life, a car is an object. The car has attributes, such as weight and color, and methods, such as drive and brake.\n",
    "\n",
    "A Class is like an object constructor, or a \"blueprint\" for creating objects."
   ]
  },
  {
   "cell_type": "markdown",
   "id": "79cdee29-9f1f-40a2-8d1b-26b965d80ed8",
   "metadata": {},
   "source": [
    "### Q2. Name the four pillars of OOPs."
   ]
  },
  {
   "cell_type": "markdown",
   "id": "81ff8c49-46ec-43f2-a9d2-7925e9c92e2d",
   "metadata": {},
   "source": [
    "These principles are called the four pillars of object-oriented programming (OOP). \n",
    "These four pillars are \n",
    "1. Inheritance\n",
    "2. Polymorphism\n",
    "3. Encapsulation\n",
    "3. Abstraction."
   ]
  },
  {
   "cell_type": "markdown",
   "id": "49992d33-d4cb-47ac-b3bc-82f948d606b1",
   "metadata": {},
   "source": [
    "### Q3. Explain why the __init__() function is used. Give a suitable example."
   ]
  },
  {
   "cell_type": "markdown",
   "id": "e4df3413-f7f1-4a0c-a35e-6c1c323e9e11",
   "metadata": {},
   "source": [
    "The __init__ method lets the class initialize the object's attributes and serves no other purpose. It is only used within classes.\n",
    "__init__ method is declared within a class and is used to initialize the attributes of an object as soon as the object is formed\n",
    "example:\n",
    "\n",
    "// A Sample class with init method\n",
    "class Person:\n",
    " \n",
    "    # init method or constructor\n",
    "    def __init__(self, name):\n",
    "        self.name = name\n",
    " \n",
    "    # Sample Method\n",
    "    def say_hi(self):\n",
    "        print('Hello, my name is', self.name)\n",
    " \n",
    " \n",
    "p = Person('Nikhil')\n",
    "p.say_hi()"
   ]
  },
  {
   "cell_type": "markdown",
   "id": "f0449d09-2bc6-4b27-857b-a9eb58d43f0b",
   "metadata": {},
   "source": [
    "### Q4. Why self is used in OOPs?"
   ]
  },
  {
   "cell_type": "markdown",
   "id": "251068e5-14ff-44e0-bd3c-5f0dfbb29110",
   "metadata": {},
   "source": [
    "The self variable is used to represent the instance of the class which is often used in object-oriented programming.\n",
    "It works as a reference to the object. \n",
    "Python uses the self parameter to refer to instance attributes and methods of the class."
   ]
  },
  {
   "cell_type": "markdown",
   "id": "1c1d4498-3801-4963-95e3-c74a0f328c95",
   "metadata": {},
   "source": [
    "### Q5. What is inheritance? Give an example for each type of inheritance."
   ]
  },
  {
   "cell_type": "markdown",
   "id": "2dc3f4e3-1407-4dbe-807e-4cd5c250c3a8",
   "metadata": {},
   "source": [
    "The capability of a class to derive properties and characteristics from another class is called Inheritance.\n",
    "Inheritance is one of the most important features of Object-Oriented Programming. \n",
    "\n",
    "Inheritance is a feature or a process in which, new classes are created from the existing classes. The new class created is called “derived class” or “child class” and the existing class is known as the “base class” or “parent class”. The derived class now is said to be inherited from the base class.\n",
    "\n",
    "EXAMPLES:\n",
    "Single inheritance: When a child class inherits from only one parent class, it is called single inheritance.\n",
    "\n",
    "class test():\n",
    "    \n",
    "    def test_method(self):\n",
    "        return \"This is my first class\"\n",
    "        \n",
    "class child_test(test):\n",
    "    pass\n",
    "    \n",
    "child_test=child_test()\n",
    "child_test.test_method()\n",
    "    \n",
    "    \n",
    "Multiple inheritances: When a child class inherits from multiple parent classes, it is called multiple inheritances. \n",
    "\n",
    "class class1:\n",
    "    \n",
    "    def test_class1(self):\n",
    "        return \"this is the method from class1\"\n",
    "        \n",
    "class class2:\n",
    "    \n",
    "    def test_class2(self):\n",
    "        return \"this is the method from class2\"\n",
    "        \n",
    "class class3(class1,class2):\n",
    "         pass\n",
    "         \n",
    "obj_class3=class3()\n",
    "obj_class3.test_class1()\n",
    "\n",
    "Multilevel inheritance: When we have a child and grandchild relationship. \n",
    "\n",
    "class Base(object):\n",
    " \n",
    "    # Constructor\n",
    "    def __init__(self, name):\n",
    "        self.name = name\n",
    " \n",
    "    # To get name\n",
    "    def getName(self):\n",
    "        return self.name\n",
    " \n",
    " \n",
    "# Inherited or Sub class (Note Person in bracket)\n",
    "class Child(Base):\n",
    " \n",
    "    # Constructor\n",
    "    def __init__(self, name, age):\n",
    "        Base.__init__(self, name)\n",
    "        self.age = age\n",
    " \n",
    "    # To get name\n",
    "    def getAge(self):\n",
    "        return self.age\n",
    "class GrandChild(Child):\n",
    " \n",
    "    # Constructor\n",
    "    def __init__(self, name, age, address):\n",
    "        Child.__init__(self, name, age)\n",
    "        self.address = address\n",
    " \n",
    "    # To get address\n",
    "    def getAddress(self):\n",
    "        return self.address\n",
    " \n",
    " \n",
    "# Driver code\n",
    "g = GrandChild(\"Geek1\", 23, \"Noida\")\n",
    "print(g.getName(), g.getAge(), g.getAddress())"
   ]
  }
 ],
 "metadata": {
  "kernelspec": {
   "display_name": "Python 3 (ipykernel)",
   "language": "python",
   "name": "python3"
  },
  "language_info": {
   "codemirror_mode": {
    "name": "ipython",
    "version": 3
   },
   "file_extension": ".py",
   "mimetype": "text/x-python",
   "name": "python",
   "nbconvert_exporter": "python",
   "pygments_lexer": "ipython3",
   "version": "3.10.8"
  }
 },
 "nbformat": 4,
 "nbformat_minor": 5
}
